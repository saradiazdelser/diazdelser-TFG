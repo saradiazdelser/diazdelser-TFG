{
 "cells": [
  {
   "cell_type": "markdown",
   "source": [
    "### Imports"
   ],
   "metadata": {
    "collapsed": false
   }
  },
  {
   "cell_type": "code",
   "execution_count": 1,
   "outputs": [],
   "source": [
    "import pandas as pd\n"
   ],
   "metadata": {
    "collapsed": false,
    "pycharm": {
     "name": "#%%\n"
    }
   }
  },
  {
   "cell_type": "markdown",
   "source": [
    "### Files"
   ],
   "metadata": {
    "collapsed": false
   }
  },
  {
   "cell_type": "code",
   "execution_count": 2,
   "outputs": [],
   "source": [
    "# Data from Semantic Scholar\n",
    "file1 = 'datasets/SemanticScholar/part_1.csv'\n",
    "file2 = 'datasets/SemanticScholar/part_2.csv'\n",
    "\n",
    "# Data from CORDIS\n",
    "projects_file = 'datasets/CORDIS/projects.xlsx'\n",
    "organizations_file = 'datasets/CORDIS/organizations.xlsx'\n",
    "patents_file = 'datasets/CORDIS/patents.xlsx'\n",
    "publications_file = 'datasets/CORDIS/publications.xlsx'\n",
    "SciVocCodes_file = 'datasets/CORDIS/SciVocCodes.xlsx'\n",
    "\n",
    "# Patent IPC Data\n",
    "patents_dataset_file = 'datasets/Patents/patents.csv'"
   ],
   "metadata": {
    "collapsed": false,
    "pycharm": {
     "name": "#%%\n"
    }
   }
  },
  {
   "cell_type": "markdown",
   "source": [
    "### Open files and save to selected format"
   ],
   "metadata": {
    "collapsed": false
   }
  },
  {
   "cell_type": "markdown",
   "source": [
    "#### Semantic Scholar"
   ],
   "metadata": {
    "collapsed": false
   }
  },
  {
   "cell_type": "code",
   "execution_count": 4,
   "outputs": [
    {
     "name": "stdout",
     "output_type": "stream",
     "text": [
      "Found 883306 total publications in Semantic Scholar\n"
     ]
    }
   ],
   "source": [
    "publ1 = pd.read_csv(file1, header='infer', sep=',', quotechar='\"', escapechar='\\\\', engine='python')\n",
    "publ2 = pd.read_csv(file2, header='infer', sep=',', quotechar='\"', escapechar='\\\\', engine='python')\n",
    "ss_publications = pd.concat([publ2, publ2])\n",
    "print(f'Found {len(ss_publications)} total publications in Semantic Scholar')"
   ],
   "metadata": {
    "collapsed": false,
    "pycharm": {
     "name": "#%%\n"
    }
   }
  },
  {
   "cell_type": "code",
   "execution_count": 5,
   "outputs": [],
   "source": [
    "ss_publications.to_csv('datasets/SemanticScholar/publications_data.csv')"
   ],
   "metadata": {
    "collapsed": false,
    "pycharm": {
     "name": "#%%\n"
    }
   }
  },
  {
   "cell_type": "markdown",
   "source": [
    "#### CORDIS"
   ],
   "metadata": {
    "collapsed": false
   }
  },
  {
   "cell_type": "code",
   "execution_count": 7,
   "outputs": [
    {
     "name": "stdout",
     "output_type": "stream",
     "text": [
      "Found 61163 total projects in CORDIS\n",
      "Found 598408 total publications in CORDIS\n",
      "Found 31700 total patents in CORDIS\n"
     ]
    }
   ],
   "source": [
    "projects_data = pd.read_excel(projects_file)\n",
    "organizations_data = pd.read_excel(organizations_file)\n",
    "patents_data = pd.read_excel(patents_file)\n",
    "publicatons_data = pd.read_excel(publications_file)\n",
    "SciVocCodes_data = pd.read_excel(SciVocCodes_file)\n",
    "\n",
    "print(f'Found {len(projects_data)} total projects in CORDIS')\n",
    "print(f'Found {len(publicatons_data)} total publications in CORDIS')\n",
    "print(f'Found {len(patents_data)} total patents in CORDIS')"
   ],
   "metadata": {
    "collapsed": false,
    "pycharm": {
     "name": "#%%\n"
    }
   }
  },
  {
   "cell_type": "code",
   "execution_count": 8,
   "outputs": [],
   "source": [
    "# Save to csv\n",
    "projects_data.to_csv('datasets/CORDIS/projects_data.csv')\n",
    "patents_data.to_csv('datasets/CORDIS/patents_data.csv')\n",
    "publicatons_data.to_csv('datasets/CORDIS/publicatons_data.csv')\n",
    "SciVocCodes_data.to_csv('datasets/CORDIS/SciVocCodes_data.csv')\n"
   ],
   "metadata": {
    "collapsed": false,
    "pycharm": {
     "name": "#%%\n"
    }
   }
  },
  {
   "cell_type": "markdown",
   "source": [
    "#### Patents"
   ],
   "metadata": {
    "collapsed": false
   }
  },
  {
   "cell_type": "code",
   "execution_count": 9,
   "outputs": [
    {
     "name": "stdout",
     "output_type": "stream",
     "text": [
      "Found 17895 total patents in Patents dataset\n"
     ]
    }
   ],
   "source": [
    "# Patents\n",
    "patents_dataset = pd.read_csv(patents_dataset_file)\n",
    "print(f'Found {len(patents_dataset)} total patents in Patents dataset')"
   ],
   "metadata": {
    "collapsed": false,
    "pycharm": {
     "name": "#%%\n"
    }
   }
  },
  {
   "cell_type": "code",
   "execution_count": null,
   "outputs": [],
   "source": [],
   "metadata": {
    "collapsed": false,
    "pycharm": {
     "name": "#%%\n"
    }
   }
  }
 ],
 "metadata": {
  "kernelspec": {
   "name": "python3",
   "language": "python",
   "display_name": "Python 3 (ipykernel)"
  },
  "language_info": {
   "codemirror_mode": {
    "name": "ipython",
    "version": 2
   },
   "file_extension": ".py",
   "mimetype": "text/x-python",
   "name": "python",
   "nbconvert_exporter": "python",
   "pygments_lexer": "ipython2",
   "version": "2.7.6"
  }
 },
 "nbformat": 4,
 "nbformat_minor": 0
}