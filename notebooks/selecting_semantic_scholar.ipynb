{
 "cells": [
  {
   "cell_type": "markdown",
   "source": [
    "### Import "
   ],
   "metadata": {
    "collapsed": false
   }
  },
  {
   "cell_type": "code",
   "execution_count": 5,
   "outputs": [
    {
     "name": "stdout",
     "output_type": "stream",
     "text": [
      "imported\n"
     ]
    }
   ],
   "source": [
    "import pandas as pd\n",
    "from utils import pickler, unpickler"
   ],
   "metadata": {
    "collapsed": false,
    "pycharm": {
     "name": "#%%\n"
    }
   }
  },
  {
   "cell_type": "markdown",
   "source": [
    "### Export Data (Semantic Scholar)\n"
   ],
   "metadata": {
    "collapsed": false
   }
  },
  {
   "cell_type": "markdown",
   "source": [
    "#### Export texts for topic modelling"
   ],
   "metadata": {
    "collapsed": false
   }
  },
  {
   "cell_type": "code",
   "execution_count": 13,
   "outputs": [
    {
     "name": "stderr",
     "output_type": "stream",
     "text": [
      "/var/folders/qr/1vgql2jj5h3gv284nl470hcr0000gp/T/ipykernel_47142/1218605484.py:2: DtypeWarning: Columns (5) have mixed types. Specify dtype option on import or set low_memory=False.\n",
      "  semantic_scholar = pd.read_csv('databases/SemanticScholar/publications_data.csv')\n"
     ]
    }
   ],
   "source": [
    "# Data from Semantic Scholar\n",
    "semantic_scholar = pd.read_csv('databases/SemanticScholar/publications_data.csv')"
   ],
   "metadata": {
    "collapsed": false,
    "pycharm": {
     "name": "#%%\n"
    }
   }
  },
  {
   "cell_type": "code",
   "execution_count": null,
   "outputs": [],
   "source": [
    "pickler(file='datasets/semantic_scholar_texts.pkl',\n",
    "        ob=dict(zip(semantic_scholar.id,semantic_scholar.paperAbstract)))"
   ],
   "metadata": {
    "collapsed": false,
    "pycharm": {
     "name": "#%%\n"
    }
   }
  },
  {
   "cell_type": "code",
   "execution_count": null,
   "outputs": [],
   "source": [
    "# Make subsample\n",
    "pickler(file='datasets/semantic_scholar_subsample_texts.pkl',\n",
    "        ob=dict(zip(semantic_scholar.id.iloc[::100],semantic_scholar.paperAbstract.iloc[::100])))"
   ],
   "metadata": {
    "collapsed": false,
    "pycharm": {
     "name": "#%%\n"
    }
   }
  },
  {
   "cell_type": "markdown",
   "source": [
    "#### Export dataframe for visualization"
   ],
   "metadata": {
    "collapsed": false
   }
  },
  {
   "cell_type": "code",
   "execution_count": 14,
   "outputs": [],
   "source": [
    "# Prepare DataFrame\n",
    "semantic_scholar.rename(columns = {'id':'Publication ID',\n",
    "                     'title' : 'Title',\n",
    "                     'year' : 'Year',\n",
    "                     'lemmas' : 'Lemmas',\n",
    "                     'venue':'Venue',\n",
    "                     'paperAbstract':'Abstract',\n",
    "                     'journalName': 'Journal',\n",
    "                     'journalPages': 'Pages',\n",
    "                     'journalVolume': 'Volume',\n",
    "                     'doi':'DOI',\n",
    "                     'pmid':'PMID'\n",
    "                     },\n",
    "          inplace = True)\n",
    "\n",
    "semantic_scholar['Publication ID'] = semantic_scholar['Publication ID'].astype('string')"
   ],
   "metadata": {
    "collapsed": false,
    "pycharm": {
     "name": "#%%\n"
    }
   }
  },
  {
   "cell_type": "code",
   "execution_count": 16,
   "outputs": [],
   "source": [
    "pickler('app_data/data/semantic_scholar_dataframe.pkl', semantic_scholar[['Publication ID', 'Title', 'Year', 'Lemmas',\n",
    "                                'Venue', 'Abstract', 'Journal', 'Pages', 'Volume', 'DOI', 'PMID']])\n"
   ],
   "metadata": {
    "collapsed": false,
    "pycharm": {
     "name": "#%%\n"
    }
   }
  },
  {
   "cell_type": "markdown",
   "source": [
    "### Export Data (Combination)"
   ],
   "metadata": {
    "collapsed": false
   }
  },
  {
   "cell_type": "code",
   "execution_count": null,
   "outputs": [],
   "source": [
    "# Make a combined dataset\n",
    "semantic_scholar = unpickler(file='datasets/semantic_scholar_texts.pkl')\n",
    "cordis = unpickler(file='datasets/cordis_texts.pkl')\n",
    "patents = unpickler(file='datasets/patents_texts.pkl')"
   ],
   "metadata": {
    "collapsed": false,
    "pycharm": {
     "name": "#%%\n"
    }
   }
  },
  {
   "cell_type": "code",
   "execution_count": null,
   "outputs": [],
   "source": [
    "# Combine\n",
    "combination = {**cordis, **patents}\n",
    "combination = {**combination, **semantic_scholar}"
   ],
   "metadata": {
    "collapsed": false,
    "pycharm": {
     "name": "#%%\n"
    }
   }
  },
  {
   "cell_type": "markdown",
   "source": [
    "#### Export texts for topic modelling"
   ],
   "metadata": {
    "collapsed": false
   }
  },
  {
   "cell_type": "code",
   "execution_count": null,
   "outputs": [],
   "source": [
    "pickler(file='datasets/combination_texts.pkl',\n",
    "        ob=combination)"
   ],
   "metadata": {
    "collapsed": false,
    "pycharm": {
     "name": "#%%\n"
    }
   }
  },
  {
   "cell_type": "code",
   "execution_count": null,
   "outputs": [],
   "source": [
    "# Make subsample\n",
    "pickler(file='datasets/combination_subsample_texts.pkl',\n",
    "        ob=dict(list(combination.items())[::150]))\n"
   ],
   "metadata": {
    "collapsed": false,
    "pycharm": {
     "name": "#%%\n"
    }
   }
  },
  {
   "cell_type": "code",
   "execution_count": null,
   "outputs": [],
   "source": [],
   "metadata": {
    "collapsed": false,
    "pycharm": {
     "name": "#%%\n"
    }
   }
  }
 ],
 "metadata": {
  "kernelspec": {
   "name": "python3",
   "language": "python",
   "display_name": "Python 3 (ipykernel)"
  },
  "language_info": {
   "codemirror_mode": {
    "name": "ipython",
    "version": 3
   },
   "file_extension": ".py",
   "mimetype": "text/x-python",
   "name": "python",
   "nbconvert_exporter": "python",
   "pygments_lexer": "ipython3",
   "version": "3.8.8"
  }
 },
 "nbformat": 4,
 "nbformat_minor": 5
}