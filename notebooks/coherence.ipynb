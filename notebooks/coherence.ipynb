{
 "cells": [
  {
   "cell_type": "code",
   "execution_count": 3,
   "metadata": {
    "collapsed": true
   },
   "outputs": [],
   "source": [
    "from tqdm.notebook import tqdm\n",
    "import visualize as vis\n",
    "import glob\n",
    "import pandas as pd\n",
    "from gensim.models import CoherenceModel\n",
    "from gensim.corpora import Dictionary\n",
    "from utils import unpickler, pickler\n",
    "\n",
    "import utils as ut"
   ]
  },
  {
   "cell_type": "markdown",
   "source": [
    "## Model Coherence"
   ],
   "metadata": {
    "collapsed": false,
    "pycharm": {
     "name": "#%% md\n"
    }
   }
  },
  {
   "cell_type": "code",
   "execution_count": 4,
   "outputs": [],
   "source": [
    "def extract_topic_keys(file:str) -> list:\n",
    "\t\"\"\"Get list of topics's keywords\"\"\"\n",
    "\ttopic_keys = pd.read_csv(file, header=None, delimiter='\\t').set_index(0, drop=True)\n",
    "\ttopic_keys[2] = topic_keys[2].apply(lambda x: x.strip().split(\" \"))\n",
    "\treturn\ttopic_keys[2].to_list()\n"
   ],
   "metadata": {
    "collapsed": false,
    "pycharm": {
     "name": "#%%\n"
    }
   }
  },
  {
   "cell_type": "code",
   "execution_count": 1,
   "outputs": [],
   "source": [
    "def coherence_model(name:str, corpus:str) -> dict:\n",
    "\t# Get all topic models from patents\n",
    "\tpath = fr'results/{name}/'\n",
    "\ttopic_keys_txt = [f for f in glob.glob(path + r'**/topickeys.txt', recursive=True)]\n",
    "\t# Tokenized texts (list of list of str)\n",
    "\ttexts = unpickler(corpus)\n",
    "\n",
    "\t# Gensim dictionary mapping of id word to create corpus\n",
    "\t# Create dictionary of tokens\n",
    "\tD = Dictionary(texts)\n",
    "\tn_tokens = len(D)\n",
    "\tprint('The dictionary contains', n_tokens, 'terms')\n",
    "\tcoherence = {}\n",
    "\n",
    "\tfor file in tqdm(topic_keys_txt):\n",
    "\t\t# Get topics as lists of words (save in dictionary)\n",
    "\t\ttopic_keys = extract_topic_keys(file)\n",
    "\t\t# Run Coherence Model\n",
    "\t\tcoherence[len(topic_keys)] = CoherenceModel(topics=topic_keys, texts=texts,\n",
    "\t\tdictionary=D, coherence='c_v').get_coherence()\n",
    "\n",
    "\treturn coherence"
   ],
   "metadata": {
    "collapsed": false,
    "pycharm": {
     "name": "#%%\n"
    }
   }
  },
  {
   "cell_type": "markdown",
   "source": [
    "# Model Selection and Visualization"
   ],
   "metadata": {
    "collapsed": false,
    "pycharm": {
     "name": "#%% md\n"
    }
   }
  },
  {
   "cell_type": "markdown",
   "source": [
    "### Patents: Coherence"
   ],
   "metadata": {
    "collapsed": false,
    "pycharm": {
     "name": "#%% md\n"
    }
   }
  },
  {
   "cell_type": "code",
   "execution_count": 5,
   "outputs": [
    {
     "name": "stdout",
     "output_type": "stream",
     "text": [
      "The dictionary contains 9006 terms\n"
     ]
    },
    {
     "data": {
      "text/plain": "  0%|          | 0/6 [00:00<?, ?it/s]",
      "application/vnd.jupyter.widget-view+json": {
       "version_major": 2,
       "version_minor": 0,
       "model_id": "e753dde9da2442a28ec0b4053a3c4635"
      }
     },
     "metadata": {},
     "output_type": "display_data"
    }
   ],
   "source": [
    "coherence = coherence_model(name='patents', corpus='corpus/patents_corpus.pkl')\n",
    "pickler('app_data/data/patents_coherence.pkl', coherence)\n",
    "fig1 = vis.display_coherence(coherence)"
   ],
   "metadata": {
    "collapsed": false,
    "pycharm": {
     "name": "#%%\n"
    }
   }
  },
  {
   "cell_type": "code",
   "execution_count": 6,
   "outputs": [],
   "source": [
    "fig1.write_image(\"img/patents_coherence.png\", format='png',engine='kaleido')"
   ],
   "metadata": {
    "collapsed": false,
    "pycharm": {
     "name": "#%%\n"
    }
   }
  },
  {
   "cell_type": "markdown",
   "source": [
    "### Patents: Topic Modeling for n-Topics"
   ],
   "metadata": {
    "collapsed": false,
    "pycharm": {
     "name": "#%% md\n"
    }
   }
  },
  {
   "cell_type": "code",
   "execution_count": 8,
   "outputs": [],
   "source": [
    "# Select model\n",
    "n = 20\n",
    "report = f'results/patents/lda_mallet_model_{n}/mallet_output/topic-report.xml'\n",
    "# Display\n",
    "topic_report, n = ut.read_report(report)\n",
    "fig2 = vis.display_topics(topic_report, n)\n",
    "# Generate wordclouds:\n",
    "for i in range(len(topic_report)):\n",
    "\tvis.generate_wordcloud(topic_report,i,'patents')"
   ],
   "metadata": {
    "collapsed": false,
    "pycharm": {
     "name": "#%%\n"
    }
   }
  },
  {
   "cell_type": "code",
   "execution_count": 9,
   "outputs": [],
   "source": [
    "fig2.write_image(\"img/patents_topics.png\", format='png',engine='kaleido')"
   ],
   "metadata": {
    "collapsed": false,
    "pycharm": {
     "name": "#%%\n"
    }
   }
  },
  {
   "cell_type": "code",
   "execution_count": 10,
   "outputs": [],
   "source": [
    "# Save topic_report data\n",
    "pickler('app_data/data/patents_topic_report.pkl', topic_report)"
   ],
   "metadata": {
    "collapsed": false,
    "pycharm": {
     "name": "#%%\n"
    }
   }
  },
  {
   "cell_type": "markdown",
   "source": [
    "## Cordis Projetcs"
   ],
   "metadata": {
    "collapsed": false,
    "pycharm": {
     "name": "#%% md\n"
    }
   }
  },
  {
   "cell_type": "markdown",
   "source": [
    "### Cordis: Coherence"
   ],
   "metadata": {
    "collapsed": false,
    "pycharm": {
     "name": "#%% md\n"
    }
   }
  },
  {
   "cell_type": "code",
   "execution_count": 11,
   "outputs": [
    {
     "name": "stdout",
     "output_type": "stream",
     "text": [
      "The dictionary contains 74695 terms\n"
     ]
    },
    {
     "data": {
      "text/plain": "  0%|          | 0/6 [00:00<?, ?it/s]",
      "application/vnd.jupyter.widget-view+json": {
       "version_major": 2,
       "version_minor": 0,
       "model_id": "10d99d1ebeb64a24b9fe0fb5648cdbc7"
      }
     },
     "metadata": {},
     "output_type": "display_data"
    }
   ],
   "source": [
    "coherence = coherence_model(name='cordis', corpus='corpus/cordis_corpus.pkl')\n",
    "pickler('app_data/data/cordis_coherence.pkl', coherence)\n",
    "fig3 = vis.display_coherence(coherence)"
   ],
   "metadata": {
    "collapsed": false,
    "pycharm": {
     "name": "#%%\n"
    }
   }
  },
  {
   "cell_type": "code",
   "execution_count": 12,
   "outputs": [],
   "source": [
    "fig3.write_image(\"img/cordis_coherence.png\", format='png',engine='kaleido')"
   ],
   "metadata": {
    "collapsed": false,
    "pycharm": {
     "name": "#%%\n"
    }
   }
  },
  {
   "cell_type": "markdown",
   "source": [
    "### Cordis: Topic Modeling for n-Topics"
   ],
   "metadata": {
    "collapsed": false,
    "pycharm": {
     "name": "#%% md\n"
    }
   }
  },
  {
   "cell_type": "code",
   "execution_count": 13,
   "outputs": [],
   "source": [
    "# Select model\n",
    "n = 15\n",
    "report = f'results/cordis/lda_mallet_model_{n}/mallet_output/topic-report.xml'\n",
    "# Display\n",
    "topic_report, n = ut.read_report(report)\n",
    "fig4 = vis.display_topics(topic_report, n)\n",
    "\n",
    "# Generate wordclouds:\n",
    "for i in range(len(topic_report)):\n",
    "\tvis.generate_wordcloud(topic_report,i,'cordis')"
   ],
   "metadata": {
    "collapsed": false,
    "pycharm": {
     "name": "#%%\n"
    }
   }
  },
  {
   "cell_type": "code",
   "execution_count": 14,
   "outputs": [],
   "source": [
    "fig4.write_image(\"img/cordis_topics.png\", format='png',engine='kaleido')"
   ],
   "metadata": {
    "collapsed": false,
    "pycharm": {
     "name": "#%%\n"
    }
   }
  },
  {
   "cell_type": "code",
   "execution_count": 15,
   "outputs": [],
   "source": [
    "# Save topic_report data\n",
    "pickler('app_data/data/cordis_topic_report.pkl', topic_report)\n"
   ],
   "metadata": {
    "collapsed": false,
    "pycharm": {
     "name": "#%%\n"
    }
   }
  },
  {
   "cell_type": "markdown",
   "source": [
    "### Semantic Scholar: Coherence"
   ],
   "metadata": {
    "collapsed": false
   }
  },
  {
   "cell_type": "code",
   "execution_count": null,
   "outputs": [],
   "source": [
    "coherence = coherence_model(name='semantic_scholar_subsample', corpus='corpus/semantic_scholar_subsample_corpus.pkl')\n",
    "pickler('app_data/data/semantic_scholar_coherence.pkl', coherence)\n",
    "fig5 = vis.display_coherence(coherence)"
   ],
   "metadata": {
    "collapsed": false,
    "pycharm": {
     "name": "#%%\n",
     "is_executing": true
    }
   }
  },
  {
   "cell_type": "code",
   "execution_count": null,
   "outputs": [],
   "source": [
    "fig5.write_image(\"img/semantic_scholar_coherence.png\", format='png',engine='kaleido')"
   ],
   "metadata": {
    "collapsed": false,
    "pycharm": {
     "name": "#%%\n"
    }
   }
  },
  {
   "cell_type": "markdown",
   "source": [
    "### Semantic Scholar: Topic Modeling for n-Topics"
   ],
   "metadata": {
    "collapsed": false
   }
  },
  {
   "cell_type": "code",
   "execution_count": 16,
   "outputs": [],
   "source": [
    "# Select model\n",
    "n = 20\n",
    "report = f'results/semantic_scholar/lda_mallet_model_{n}/mallet_output/topic-report.xml'\n",
    "# Display\n",
    "topic_report, n = ut.read_report(report)\n",
    "fig6 = vis.display_topics(topic_report, n)\n",
    "# Generate wordclouds:\n",
    "for i in range(len(topic_report)):\n",
    "\tvis.generate_wordcloud(topic_report,i,'semantic_scholar')"
   ],
   "metadata": {
    "collapsed": false,
    "pycharm": {
     "name": "#%%\n"
    }
   }
  },
  {
   "cell_type": "code",
   "execution_count": 17,
   "outputs": [],
   "source": [
    "fig6.write_image(\"img/semantic_scholar_topics.png\", format='png',engine='kaleido')"
   ],
   "metadata": {
    "collapsed": false,
    "pycharm": {
     "name": "#%%\n"
    }
   }
  },
  {
   "cell_type": "code",
   "execution_count": 18,
   "outputs": [],
   "source": [
    "# Save topic_report data\n",
    "pickler('app_data/data/patents_topic_report.pkl', topic_report)"
   ],
   "metadata": {
    "collapsed": false,
    "pycharm": {
     "name": "#%%\n"
    }
   }
  },
  {
   "cell_type": "code",
   "execution_count": null,
   "outputs": [],
   "source": [],
   "metadata": {
    "collapsed": false,
    "pycharm": {
     "name": "#%%\n"
    }
   }
  }
 ],
 "metadata": {
  "kernelspec": {
   "display_name": "Python 3",
   "language": "python",
   "name": "python3"
  },
  "language_info": {
   "codemirror_mode": {
    "name": "ipython",
    "version": 2
   },
   "file_extension": ".py",
   "mimetype": "text/x-python",
   "name": "python",
   "nbconvert_exporter": "python",
   "pygments_lexer": "ipython2",
   "version": "2.7.6"
  }
 },
 "nbformat": 4,
 "nbformat_minor": 0
}