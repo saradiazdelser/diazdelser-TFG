{
 "cells": [
  {
   "cell_type": "markdown",
   "source": [
    "# Stopwords"
   ],
   "metadata": {
    "collapsed": false,
    "pycharm": {
     "name": "#%% md\n"
    }
   },
   "execution_count": 1
  },
  {
   "cell_type": "code",
   "execution_count": 1,
   "outputs": [],
   "source": [
    "from utils import pickler"
   ],
   "metadata": {
    "collapsed": false,
    "pycharm": {
     "name": "#%%\n"
    }
   }
  },
  {
   "cell_type": "code",
   "execution_count": 2,
   "metadata": {
    "collapsed": true
   },
   "outputs": [],
   "source": [
    "# Add words from technical language stopwords list\n",
    "x = \"a needn a not able never about needn't accordance now above- often above no according of mentioned \\\n",
    " others after nor all on accordingly otherwise again not also onto across overall against now an or along \\\n",
    " rather ain o and other already remarkably all of another particularly alternatively significantly am off \\\n",
    " are preferably always simply an on as preferred among sometimes and once at present and/or specifically \\\n",
    " any only be provide anything straight are or because provided anywhere forward aren other been provides \\\n",
    " better substantially aren't our being relatively disclosure thereafter as ours by respectively due \\\n",
    " therebetween at ourselves claim said easily therefor be out comprises should easy therefrom because \\\n",
    " over corresponding since e.g therein been own could some either thereinto before re described such \\\n",
    " elsewhere thereon being s desired suitable enough therethrough below same do than especially therewith \\\n",
    " between shan does that essentially together both shan't each the et al toward but she embodiment their \\\n",
    " etc towards by she's fig then eventually typical can should figs there excellent upon couldn should've \\\n",
    " for thereby finally via couldn't shouldn from therefore furthermore vice versa d shouldn't further \\\n",
    " thereof good whatever did so generally thereto hence whereas didn some had these he/she whereat \\\n",
    " didn't such has they him/her wherever do t have this his/her whether does than having those ie \\\n",
    " whose doesn that herein thus ii within doesn't that'll however to iii without doing the if use \\\n",
    " instead yet don their in various later don't theirs into was like down them invention were little \\\n",
    " during themselves is what many each there it when may few these its where meanwhile for they means \\\n",
    " whereby might from this wherein moreover further those which much had through while must hadn to who \\\n",
    " hadn't too will has under with hasn until Would hasn't up have ve haven very haven't was having wasn he \\\n",
    " wasn't her we here were hers weren herself weren't him what himself when his where how which i while \\\n",
    " if who in whom into why is will isn with isn't won it won't it's wouldn its wouldn't itself y just \\\n",
    " you you'd m you'll ma you're me you've mightn your mightn't yours more yourself most yourselves \\\n",
    " mustn mustn't my myself\"\n",
    "\n",
    "x = x.split(' ')\n",
    "stop_words = { 'patents': x, 'cordis' : x, 'semantic_scholar' : x, 'combination': x}"
   ]
  },
  {
   "cell_type": "code",
   "execution_count": 3,
   "outputs": [],
   "source": [
    "all = ['say', 'method', 'comprise', 'include', 'system', 'device', 'relate', 'determine', 'unit', 'observe',\n",
    "       'identify', 'total', 'significantly', 'significant','process', 'set', 'study', 'result', 'approach', 'find' ]"
   ],
   "metadata": {
    "collapsed": false,
    "pycharm": {
     "name": "#%%\n"
    }
   }
  },
  {
   "cell_type": "code",
   "execution_count": 4,
   "outputs": [],
   "source": [
    "# Manually add to patents\n",
    "stop_words['patents'].extend(all)"
   ],
   "metadata": {
    "collapsed": false,
    "pycharm": {
     "name": "#%%\n"
    }
   }
  },
  {
   "cell_type": "code",
   "execution_count": 5,
   "outputs": [],
   "source": [
    "# Manually add to cordis\n",
    "stop_words['cordis'].extend(all)"
   ],
   "metadata": {
    "collapsed": false,
    "pycharm": {
     "name": "#%%\n"
    }
   }
  },
  {
   "cell_type": "code",
   "execution_count": 6,
   "outputs": [],
   "source": [
    "# Manually add to semantic_scholar\n",
    "stop_words['semantic_scholar'].extend(all)"
   ],
   "metadata": {
    "collapsed": false,
    "pycharm": {
     "name": "#%%\n"
    }
   }
  },
  {
   "cell_type": "code",
   "execution_count": 7,
   "outputs": [],
   "source": [
    "# Manually add to combination corpus\n",
    "stop_words['combination'].extend(all)"
   ],
   "metadata": {
    "collapsed": false,
    "pycharm": {
     "name": "#%%\n"
    }
   }
  },
  {
   "cell_type": "code",
   "execution_count": 8,
   "outputs": [],
   "source": [
    "pickler('stopwords.pkl', stop_words)"
   ],
   "metadata": {
    "collapsed": false,
    "pycharm": {
     "name": "#%%\n"
    }
   }
  },
  {
   "cell_type": "code",
   "execution_count": 8,
   "outputs": [],
   "source": [],
   "metadata": {
    "collapsed": false,
    "pycharm": {
     "name": "#%%\n"
    }
   }
  }
 ],
 "metadata": {
  "kernelspec": {
   "display_name": "Python 3",
   "language": "python",
   "name": "python3"
  },
  "language_info": {
   "codemirror_mode": {
    "name": "ipython",
    "version": 2
   },
   "file_extension": ".py",
   "mimetype": "text/x-python",
   "name": "python",
   "nbconvert_exporter": "python",
   "pygments_lexer": "ipython2",
   "version": "2.7.6"
  }
 },
 "nbformat": 4,
 "nbformat_minor": 0
}